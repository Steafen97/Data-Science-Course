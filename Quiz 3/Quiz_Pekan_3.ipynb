{
 "cells": [
  {
   "cell_type": "markdown",
   "metadata": {
    "id": "VB8zvKUxEv_W"
   },
   "source": [
    "# **Quiz Pekan - 3**"
   ]
  },
  {
   "cell_type": "markdown",
   "metadata": {
    "id": "v2OY1URYFE93"
   },
   "source": [
    "# Soal 1 : Apakah harapan kalian saat mengikuti kelas Python Datascience dasar? "
   ]
  },
  {
   "cell_type": "markdown",
   "metadata": {
    "id": "5KAW04zaFHB6"
   },
   "source": [
    "Jawab:\n"
   ]
  },
  {
   "cell_type": "markdown",
   "metadata": {
    "id": "JBAXvO6tzVu_"
   },
   "source": [
    "Saya berharap bisa menguasai fundamental Data Science dan menambah pengetahuan saya. Kemudian juga setelah mengikuti kelas ini saya berharap bisa lanjut ke kelas data science lanjutan berikutnya. Karena tertarik juga untuk bisa belajar tentang data."
   ]
  },
  {
   "cell_type": "markdown",
   "metadata": {
    "id": "8yMR5KaXFKz6"
   },
   "source": [
    "\n",
    "## **Penjelasan Dataset**\n",
    "Dataset-dataset berikut ini menunjukkan score happines dunia. Score happiness menggunakan data dari GallUp world poll. Data feature yang menjadi kata kunci di report ini adalah:\n",
    "\n",
    "*  **Life Ladder** >> Ibarat sebuah tangga, pijakan 0 adalah dasar dan 10 adalah atas. Tangga atas menunjukkan  kehidupan terbaik  dan dasar tangga menunjukkan kehidupan terburuk \n",
    "*   **Log GDP Per capita** >> nilai ekonomi yang dihasilkan setiap individu warga\n",
    "*  **Social support**  >> dukungan sosial seperti keluarga, teman, tetangga dll\n",
    "*   **Healthy life expectancy at birth** >> rata-rata hidup dalam kesehatan yang baik\n",
    "*   **Freedom to make life choices** >> Peluang tiap individu untuk melakukan aksi yang dipilih\n",
    "*   **Generosity** >> Kemurahan hati\n",
    "*  **Perceptions of corruption**  >> Korupsi\n",
    "\n",
    "\n",
    "Link Download:\n",
    "\n",
    "[world-happiness-report.csv](https://drive.google.com/uc?export=download&id=14yujHboPMR5tc_n3btPcFW4fXgy4-SzL)\n",
    "\n",
    "[world-happiness-report-2021.csv](https://drive.google.com/uc?export=download&id=1gWCX58PyH0viABEMswzJ71sJ0v5KHco3)"
   ]
  },
  {
   "cell_type": "code",
   "execution_count": 1,
   "metadata": {
    "id": "n2uDMIPTFNqX"
   },
   "outputs": [],
   "source": [
    "import numpy as np\n",
    "import matplotlib.pyplot as plt\n",
    "import pandas as pd\n",
    "import seaborn as sns"
   ]
  },
  {
   "cell_type": "code",
   "execution_count": 2,
   "metadata": {
    "id": "TZ1UmzZEGcpi"
   },
   "outputs": [],
   "source": [
    "#import semua data\n",
    "\n",
    "df1 = pd.read_csv('world-happiness-report.csv')\n",
    "df2 = pd.read_csv('world-happiness-report-2021.csv')"
   ]
  },
  {
   "cell_type": "markdown",
   "metadata": {
    "id": "YMmGRLJkGjkF"
   },
   "source": [
    "# Soal 2 : Tunjukkan summary statistik dari dataset world happiness 2021 seperti expected output berikut. \n",
    "\n",
    "\n",
    "\n",
    "*   Tunjukkan summary statistik dari dataset df2\n",
    "\n",
    "\n",
    "\n",
    "HINT:\n",
    "Teman-teman perlu mendrop beberapa kolom yang tidak ditampilkan di tabel expected output dengan menggunakan atribut .drop() dari pandas DataFrame. Silahkan kunjungi referensi link berikut:\n",
    "https://pandas.pydata.org/pandas-docs/stable/reference/api/pandas.DataFrame.drop.html"
   ]
  },
  {
   "cell_type": "code",
   "execution_count": 3,
   "metadata": {
    "id": "OC7WmIfHGkNG"
   },
   "outputs": [
    {
     "data": {
      "text/html": [
       "<div>\n",
       "<style scoped>\n",
       "    .dataframe tbody tr th:only-of-type {\n",
       "        vertical-align: middle;\n",
       "    }\n",
       "\n",
       "    .dataframe tbody tr th {\n",
       "        vertical-align: top;\n",
       "    }\n",
       "\n",
       "    .dataframe thead th {\n",
       "        text-align: right;\n",
       "    }\n",
       "</style>\n",
       "<table border=\"1\" class=\"dataframe\">\n",
       "  <thead>\n",
       "    <tr style=\"text-align: right;\">\n",
       "      <th></th>\n",
       "      <th>Ladder score</th>\n",
       "      <th>Logged GDP per capita</th>\n",
       "      <th>Social support</th>\n",
       "      <th>Healthy life expectancy</th>\n",
       "      <th>Freedom to make life choices</th>\n",
       "      <th>Generosity</th>\n",
       "      <th>Perceptions of corruption</th>\n",
       "      <th>Dystopia + residual</th>\n",
       "    </tr>\n",
       "  </thead>\n",
       "  <tbody>\n",
       "    <tr>\n",
       "      <th>count</th>\n",
       "      <td>149.000000</td>\n",
       "      <td>149.000000</td>\n",
       "      <td>149.000000</td>\n",
       "      <td>149.000000</td>\n",
       "      <td>149.000000</td>\n",
       "      <td>149.000000</td>\n",
       "      <td>149.000000</td>\n",
       "      <td>149.000000</td>\n",
       "    </tr>\n",
       "    <tr>\n",
       "      <th>mean</th>\n",
       "      <td>5.532839</td>\n",
       "      <td>9.432208</td>\n",
       "      <td>0.814745</td>\n",
       "      <td>64.992799</td>\n",
       "      <td>0.791597</td>\n",
       "      <td>-0.015134</td>\n",
       "      <td>0.727450</td>\n",
       "      <td>2.430329</td>\n",
       "    </tr>\n",
       "    <tr>\n",
       "      <th>std</th>\n",
       "      <td>1.073924</td>\n",
       "      <td>1.158601</td>\n",
       "      <td>0.114889</td>\n",
       "      <td>6.762043</td>\n",
       "      <td>0.113332</td>\n",
       "      <td>0.150657</td>\n",
       "      <td>0.179226</td>\n",
       "      <td>0.537645</td>\n",
       "    </tr>\n",
       "    <tr>\n",
       "      <th>min</th>\n",
       "      <td>2.523000</td>\n",
       "      <td>6.635000</td>\n",
       "      <td>0.463000</td>\n",
       "      <td>48.478000</td>\n",
       "      <td>0.382000</td>\n",
       "      <td>-0.288000</td>\n",
       "      <td>0.082000</td>\n",
       "      <td>0.648000</td>\n",
       "    </tr>\n",
       "    <tr>\n",
       "      <th>25%</th>\n",
       "      <td>4.852000</td>\n",
       "      <td>8.541000</td>\n",
       "      <td>0.750000</td>\n",
       "      <td>59.802000</td>\n",
       "      <td>0.718000</td>\n",
       "      <td>-0.126000</td>\n",
       "      <td>0.667000</td>\n",
       "      <td>2.138000</td>\n",
       "    </tr>\n",
       "    <tr>\n",
       "      <th>50%</th>\n",
       "      <td>5.534000</td>\n",
       "      <td>9.569000</td>\n",
       "      <td>0.832000</td>\n",
       "      <td>66.603000</td>\n",
       "      <td>0.804000</td>\n",
       "      <td>-0.036000</td>\n",
       "      <td>0.781000</td>\n",
       "      <td>2.509000</td>\n",
       "    </tr>\n",
       "    <tr>\n",
       "      <th>75%</th>\n",
       "      <td>6.255000</td>\n",
       "      <td>10.421000</td>\n",
       "      <td>0.905000</td>\n",
       "      <td>69.600000</td>\n",
       "      <td>0.877000</td>\n",
       "      <td>0.079000</td>\n",
       "      <td>0.845000</td>\n",
       "      <td>2.794000</td>\n",
       "    </tr>\n",
       "    <tr>\n",
       "      <th>max</th>\n",
       "      <td>7.842000</td>\n",
       "      <td>11.647000</td>\n",
       "      <td>0.983000</td>\n",
       "      <td>76.953000</td>\n",
       "      <td>0.970000</td>\n",
       "      <td>0.542000</td>\n",
       "      <td>0.939000</td>\n",
       "      <td>3.482000</td>\n",
       "    </tr>\n",
       "  </tbody>\n",
       "</table>\n",
       "</div>"
      ],
      "text/plain": [
       "       Ladder score  Logged GDP per capita  Social support  \\\n",
       "count    149.000000             149.000000      149.000000   \n",
       "mean       5.532839               9.432208        0.814745   \n",
       "std        1.073924               1.158601        0.114889   \n",
       "min        2.523000               6.635000        0.463000   \n",
       "25%        4.852000               8.541000        0.750000   \n",
       "50%        5.534000               9.569000        0.832000   \n",
       "75%        6.255000              10.421000        0.905000   \n",
       "max        7.842000              11.647000        0.983000   \n",
       "\n",
       "       Healthy life expectancy  Freedom to make life choices  Generosity  \\\n",
       "count               149.000000                    149.000000  149.000000   \n",
       "mean                 64.992799                      0.791597   -0.015134   \n",
       "std                   6.762043                      0.113332    0.150657   \n",
       "min                  48.478000                      0.382000   -0.288000   \n",
       "25%                  59.802000                      0.718000   -0.126000   \n",
       "50%                  66.603000                      0.804000   -0.036000   \n",
       "75%                  69.600000                      0.877000    0.079000   \n",
       "max                  76.953000                      0.970000    0.542000   \n",
       "\n",
       "       Perceptions of corruption  Dystopia + residual  \n",
       "count                 149.000000           149.000000  \n",
       "mean                    0.727450             2.430329  \n",
       "std                     0.179226             0.537645  \n",
       "min                     0.082000             0.648000  \n",
       "25%                     0.667000             2.138000  \n",
       "50%                     0.781000             2.509000  \n",
       "75%                     0.845000             2.794000  \n",
       "max                     0.939000             3.482000  "
      ]
     },
     "execution_count": 3,
     "metadata": {},
     "output_type": "execute_result"
    }
   ],
   "source": [
    "#code here\n",
    "df2_filter = df2.drop(['Standard error of ladder score', 'upperwhisker', 'lowerwhisker', 'Ladder score in Dystopia'\\\n",
    "          , 'Explained by: Log GDP per capita', 'Explained by: Social support', 'Explained by: Healthy life expectancy',\\\n",
    "          'Explained by: Freedom to make life choices', 'Explained by: Generosity', 'Explained by: Perceptions of corruption'], axis=1)\n",
    "\n",
    "df2_filter.describe()"
   ]
  },
  {
   "cell_type": "markdown",
   "metadata": {
    "id": "wfmhO6ovGlV2"
   },
   "source": [
    "Expected output:\n",
    "\n",
    "![Expected Output:](https://drive.google.com/uc?id=1wvMxczKvP94GTAGTWmjoBydNOkK0OqU2)"
   ]
  },
  {
   "cell_type": "markdown",
   "metadata": {
    "id": "9VSQwAMbM2HY"
   },
   "source": [
    "\n",
    "\n",
    "---\n",
    "\n",
    "\n",
    "\n",
    "---\n",
    "\n"
   ]
  },
  {
   "cell_type": "markdown",
   "metadata": {
    "id": "eO_bSRRSM5pp"
   },
   "source": [
    "# Soal 3: Happiness report negara Indonesia dari tahun 2006 - 2021\n",
    "\n",
    "Output yang diharapkan adalah data negara Indonesia dari penggabungan dataset happiness report dan dataset happiness report 2021. Untuk sesuai dengan expected ouput, lakukan perintah-perintah berikut:\n",
    "\n",
    "\n",
    "1.   Lakukan filtering dataset happiness report dari kolom ['Country name']== \n",
    "'Indonesia'\n",
    "        - tambahkan atribut .reset_index(drop=True)\n",
    "        - drop kolom 'Positive affect' dan 'Negative affect'\n",
    "\n",
    "2.   Lakukan filtering dataset dari variabel no 2 (hasil dropping beberapa kolom sebelumnya)\n",
    "        - tambahkan kolom ['year']=2021 pada dataset dari variabel no 2 (hasil dropping beberapa kolom)\n",
    "        - filtering dataset tersebut menggunakan kolom ['Country name']== \n",
    "'Indonesia'\n",
    "        - rename beberapa kolom dengan menggunakan atribut .rename() dari pandas, referensi dokumentasi : https://pandas.pydata.org/pandas-docs/stable/reference/api/pandas.DataFrame.rename.html\n",
    "                {      \n",
    "               'Ladder score':'Life Ladder',\n",
    "               'Logged GDP per capita':'Log GDP per capita',\n",
    "                'Healthy life expectancy':'Healthy life expectancy at birth'}\n",
    "\n",
    "        - drop kolom 'Dystopia + residual' dan 'Regional indicator'\n",
    "\n",
    "3. Gabungkan data dari hasil poin 1 dan poin 2\n",
    "    -  gunakan pandas concat, .concat()\n",
    "    - tambahkan atribut .reset_index(drop=True)\n",
    "    - rename kolom {'year':'Year'}\n"
   ]
  },
  {
   "cell_type": "code",
   "execution_count": 4,
   "metadata": {
    "id": "fkgNPtq0M-ps"
   },
   "outputs": [
    {
     "data": {
      "text/html": [
       "<div>\n",
       "<style scoped>\n",
       "    .dataframe tbody tr th:only-of-type {\n",
       "        vertical-align: middle;\n",
       "    }\n",
       "\n",
       "    .dataframe tbody tr th {\n",
       "        vertical-align: top;\n",
       "    }\n",
       "\n",
       "    .dataframe thead th {\n",
       "        text-align: right;\n",
       "    }\n",
       "</style>\n",
       "<table border=\"1\" class=\"dataframe\">\n",
       "  <thead>\n",
       "    <tr style=\"text-align: right;\">\n",
       "      <th></th>\n",
       "      <th>Country name</th>\n",
       "      <th>Year</th>\n",
       "      <th>Life Ladder</th>\n",
       "      <th>Log GDP per capita</th>\n",
       "      <th>Social support</th>\n",
       "      <th>Healthy life expectancy at birth</th>\n",
       "      <th>Freedom to make life choices</th>\n",
       "      <th>Generosity</th>\n",
       "      <th>Perceptions of corruption</th>\n",
       "    </tr>\n",
       "  </thead>\n",
       "  <tbody>\n",
       "    <tr>\n",
       "      <th>0</th>\n",
       "      <td>Indonesia</td>\n",
       "      <td>2006</td>\n",
       "      <td>4.947</td>\n",
       "      <td>8.850</td>\n",
       "      <td>0.771</td>\n",
       "      <td>59.840</td>\n",
       "      <td>0.713</td>\n",
       "      <td>0.347</td>\n",
       "      <td>0.915</td>\n",
       "    </tr>\n",
       "    <tr>\n",
       "      <th>1</th>\n",
       "      <td>Indonesia</td>\n",
       "      <td>2007</td>\n",
       "      <td>5.101</td>\n",
       "      <td>8.898</td>\n",
       "      <td>0.704</td>\n",
       "      <td>59.980</td>\n",
       "      <td>0.603</td>\n",
       "      <td>0.311</td>\n",
       "      <td>0.960</td>\n",
       "    </tr>\n",
       "    <tr>\n",
       "      <th>2</th>\n",
       "      <td>Indonesia</td>\n",
       "      <td>2008</td>\n",
       "      <td>4.815</td>\n",
       "      <td>8.943</td>\n",
       "      <td>0.675</td>\n",
       "      <td>60.120</td>\n",
       "      <td>0.596</td>\n",
       "      <td>0.164</td>\n",
       "      <td>0.968</td>\n",
       "    </tr>\n",
       "    <tr>\n",
       "      <th>3</th>\n",
       "      <td>Indonesia</td>\n",
       "      <td>2009</td>\n",
       "      <td>5.472</td>\n",
       "      <td>8.975</td>\n",
       "      <td>0.779</td>\n",
       "      <td>60.260</td>\n",
       "      <td>0.784</td>\n",
       "      <td>0.191</td>\n",
       "      <td>0.911</td>\n",
       "    </tr>\n",
       "    <tr>\n",
       "      <th>4</th>\n",
       "      <td>Indonesia</td>\n",
       "      <td>2010</td>\n",
       "      <td>5.457</td>\n",
       "      <td>9.022</td>\n",
       "      <td>0.816</td>\n",
       "      <td>60.400</td>\n",
       "      <td>0.700</td>\n",
       "      <td>0.448</td>\n",
       "      <td>0.954</td>\n",
       "    </tr>\n",
       "    <tr>\n",
       "      <th>5</th>\n",
       "      <td>Indonesia</td>\n",
       "      <td>2011</td>\n",
       "      <td>5.173</td>\n",
       "      <td>9.069</td>\n",
       "      <td>0.825</td>\n",
       "      <td>60.620</td>\n",
       "      <td>0.878</td>\n",
       "      <td>0.438</td>\n",
       "      <td>0.962</td>\n",
       "    </tr>\n",
       "    <tr>\n",
       "      <th>6</th>\n",
       "      <td>Indonesia</td>\n",
       "      <td>2012</td>\n",
       "      <td>5.368</td>\n",
       "      <td>9.114</td>\n",
       "      <td>0.834</td>\n",
       "      <td>60.840</td>\n",
       "      <td>0.770</td>\n",
       "      <td>0.354</td>\n",
       "      <td>0.962</td>\n",
       "    </tr>\n",
       "    <tr>\n",
       "      <th>7</th>\n",
       "      <td>Indonesia</td>\n",
       "      <td>2013</td>\n",
       "      <td>5.292</td>\n",
       "      <td>9.155</td>\n",
       "      <td>0.794</td>\n",
       "      <td>61.060</td>\n",
       "      <td>0.781</td>\n",
       "      <td>0.376</td>\n",
       "      <td>0.973</td>\n",
       "    </tr>\n",
       "    <tr>\n",
       "      <th>8</th>\n",
       "      <td>Indonesia</td>\n",
       "      <td>2014</td>\n",
       "      <td>5.597</td>\n",
       "      <td>9.190</td>\n",
       "      <td>0.905</td>\n",
       "      <td>61.280</td>\n",
       "      <td>0.719</td>\n",
       "      <td>0.408</td>\n",
       "      <td>0.970</td>\n",
       "    </tr>\n",
       "    <tr>\n",
       "      <th>9</th>\n",
       "      <td>Indonesia</td>\n",
       "      <td>2015</td>\n",
       "      <td>5.043</td>\n",
       "      <td>9.225</td>\n",
       "      <td>0.809</td>\n",
       "      <td>61.500</td>\n",
       "      <td>0.779</td>\n",
       "      <td>0.471</td>\n",
       "      <td>0.946</td>\n",
       "    </tr>\n",
       "    <tr>\n",
       "      <th>10</th>\n",
       "      <td>Indonesia</td>\n",
       "      <td>2016</td>\n",
       "      <td>5.136</td>\n",
       "      <td>9.262</td>\n",
       "      <td>0.792</td>\n",
       "      <td>61.700</td>\n",
       "      <td>0.830</td>\n",
       "      <td>0.500</td>\n",
       "      <td>0.890</td>\n",
       "    </tr>\n",
       "    <tr>\n",
       "      <th>11</th>\n",
       "      <td>Indonesia</td>\n",
       "      <td>2017</td>\n",
       "      <td>5.098</td>\n",
       "      <td>9.300</td>\n",
       "      <td>0.796</td>\n",
       "      <td>61.900</td>\n",
       "      <td>0.865</td>\n",
       "      <td>0.488</td>\n",
       "      <td>0.900</td>\n",
       "    </tr>\n",
       "    <tr>\n",
       "      <th>12</th>\n",
       "      <td>Indonesia</td>\n",
       "      <td>2018</td>\n",
       "      <td>5.340</td>\n",
       "      <td>9.339</td>\n",
       "      <td>0.809</td>\n",
       "      <td>62.100</td>\n",
       "      <td>0.879</td>\n",
       "      <td>0.512</td>\n",
       "      <td>0.868</td>\n",
       "    </tr>\n",
       "    <tr>\n",
       "      <th>13</th>\n",
       "      <td>Indonesia</td>\n",
       "      <td>2019</td>\n",
       "      <td>5.347</td>\n",
       "      <td>9.377</td>\n",
       "      <td>0.802</td>\n",
       "      <td>62.300</td>\n",
       "      <td>0.866</td>\n",
       "      <td>0.555</td>\n",
       "      <td>0.861</td>\n",
       "    </tr>\n",
       "    <tr>\n",
       "      <th>14</th>\n",
       "      <td>Indonesia</td>\n",
       "      <td>2021</td>\n",
       "      <td>5.345</td>\n",
       "      <td>9.365</td>\n",
       "      <td>0.811</td>\n",
       "      <td>62.236</td>\n",
       "      <td>0.873</td>\n",
       "      <td>0.542</td>\n",
       "      <td>0.867</td>\n",
       "    </tr>\n",
       "  </tbody>\n",
       "</table>\n",
       "</div>"
      ],
      "text/plain": [
       "   Country name  Year  Life Ladder  Log GDP per capita  Social support  \\\n",
       "0     Indonesia  2006        4.947               8.850           0.771   \n",
       "1     Indonesia  2007        5.101               8.898           0.704   \n",
       "2     Indonesia  2008        4.815               8.943           0.675   \n",
       "3     Indonesia  2009        5.472               8.975           0.779   \n",
       "4     Indonesia  2010        5.457               9.022           0.816   \n",
       "5     Indonesia  2011        5.173               9.069           0.825   \n",
       "6     Indonesia  2012        5.368               9.114           0.834   \n",
       "7     Indonesia  2013        5.292               9.155           0.794   \n",
       "8     Indonesia  2014        5.597               9.190           0.905   \n",
       "9     Indonesia  2015        5.043               9.225           0.809   \n",
       "10    Indonesia  2016        5.136               9.262           0.792   \n",
       "11    Indonesia  2017        5.098               9.300           0.796   \n",
       "12    Indonesia  2018        5.340               9.339           0.809   \n",
       "13    Indonesia  2019        5.347               9.377           0.802   \n",
       "14    Indonesia  2021        5.345               9.365           0.811   \n",
       "\n",
       "    Healthy life expectancy at birth  Freedom to make life choices  \\\n",
       "0                             59.840                         0.713   \n",
       "1                             59.980                         0.603   \n",
       "2                             60.120                         0.596   \n",
       "3                             60.260                         0.784   \n",
       "4                             60.400                         0.700   \n",
       "5                             60.620                         0.878   \n",
       "6                             60.840                         0.770   \n",
       "7                             61.060                         0.781   \n",
       "8                             61.280                         0.719   \n",
       "9                             61.500                         0.779   \n",
       "10                            61.700                         0.830   \n",
       "11                            61.900                         0.865   \n",
       "12                            62.100                         0.879   \n",
       "13                            62.300                         0.866   \n",
       "14                            62.236                         0.873   \n",
       "\n",
       "    Generosity  Perceptions of corruption  \n",
       "0        0.347                      0.915  \n",
       "1        0.311                      0.960  \n",
       "2        0.164                      0.968  \n",
       "3        0.191                      0.911  \n",
       "4        0.448                      0.954  \n",
       "5        0.438                      0.962  \n",
       "6        0.354                      0.962  \n",
       "7        0.376                      0.973  \n",
       "8        0.408                      0.970  \n",
       "9        0.471                      0.946  \n",
       "10       0.500                      0.890  \n",
       "11       0.488                      0.900  \n",
       "12       0.512                      0.868  \n",
       "13       0.555                      0.861  \n",
       "14       0.542                      0.867  "
      ]
     },
     "execution_count": 4,
     "metadata": {},
     "output_type": "execute_result"
    }
   ],
   "source": [
    "#code here\n",
    "# perintah 1\n",
    "df1_filter = df1[df1['Country name'] == 'Indonesia'].reset_index(drop=True)\n",
    "df1_filter.drop(['Positive affect', 'Negative affect'], axis=1, inplace=True)\n",
    "\n",
    "# perintah 2\n",
    "df2_filter['year'] = 2021\n",
    "df2_filter = df2_filter.copy()[df2_filter['Country name'] == 'Indonesia']\n",
    "df2_filter.rename(\n",
    "    columns={\n",
    "        'Ladder score':'Life Ladder',\n",
    "        'Logged GDP per capita':'Log GDP per capita',\n",
    "        'Healthy life expectancy':'Healthy life expectancy at birth'\n",
    "        }, inplace=True\n",
    ")\n",
    "df2_filter.drop(['Dystopia + residual', 'Regional indicator'], axis=1, inplace=True)\n",
    "\n",
    "df = pd.concat([df1_filter, df2_filter]).reset_index(drop=True).rename(columns={'year':'Year'})\n",
    "\n",
    "df"
   ]
  },
  {
   "cell_type": "markdown",
   "metadata": {
    "id": "u4pKIYuCNC_N"
   },
   "source": [
    "Expected output:\n",
    "\n",
    "![Expected Output:](https://drive.google.com/uc?id=1FRTJ03i_khNOWeIeEGaAOSsurwKlZ8ex)"
   ]
  },
  {
   "cell_type": "markdown",
   "metadata": {
    "id": "xB08yvSoNQZk"
   },
   "source": [
    "\n",
    "\n",
    "---\n",
    "\n",
    "\n",
    "\n",
    "---\n",
    "\n"
   ]
  },
  {
   "cell_type": "markdown",
   "metadata": {
    "id": "9WVXGAm0NSnZ"
   },
   "source": [
    "# Soal 4: Visualisasi lineplot Life Ladder negara Indonesia\n",
    "\n",
    "*   Gunakan library seaborn untuk plotting line plot kolom Life Ladder dari hasil penggabungan negara Indonesia tahun 2006-2021 (soal 3) seperti expected output, jika tidak bisa menyelesaikan soal 3 silahkan download data berikut \n",
    "[Download.csv](https://drive.google.com/uc?export=download&id=19g5oURnRNlbXPUEQQyvimoEx8DwqMPLW) \n",
    "*   Berikan insight dari hasil visualisasi tersebut"
   ]
  },
  {
   "cell_type": "code",
   "execution_count": 5,
   "metadata": {
    "id": "q6ooEnFuNXo_"
   },
   "outputs": [
    {
     "data": {
      "image/png": "[encoded data removed]",
      "text/plain": [
       "<Figure size 1152x360 with 1 Axes>"
      ]
     },
     "metadata": {
      "needs_background": "light"
     },
     "output_type": "display_data"
    }
   ],
   "source": [
    "#code here\n",
    "plt.figure(figsize=(16,5))\n",
    "sns.set(style='whitegrid')\n",
    "\n",
    "# with sns.axes_style(\"whitegrid\"):\n",
    "sns.lineplot(data=df, x='Year', y='Life Ladder', marker='o')\n",
    "plt.title(\"Indonesia's ladder score over years\", weight='bold', fontsize=14)\n",
    "plt.show()"
   ]
  },
  {
   "cell_type": "markdown",
   "metadata": {
    "id": "LyJtpafNNZam"
   },
   "source": [
    "Expected output:\n",
    "\n",
    "![Expected Output:](https://drive.google.com/uc?id=16Qlf66XYLNSGtJpCx1hWkQI0CmffaaGW)"
   ]
  },
  {
   "cell_type": "markdown",
   "metadata": {
    "id": "DbP8ilbY0LH5"
   },
   "source": [
    "#### Berikan insight disini:"
   ]
  },
  {
   "cell_type": "markdown",
   "metadata": {
    "id": "O4xAgXXyNp-L"
   },
   "source": [
    "- Indeks kebahagiaan tertinggi negara Indonesia berada pada tahun 2014 dengan nilai 5.6.\n",
    "- Indeks kebahagiaan terendah negara Indonesia berada pada tahun 2008 dengan nilai 4.8.\n",
    "- Kenaikan indeks kebahagiaan negara Indonesia secara signifikan berada ketika tahun 2008 menuju 2009.\n",
    "- Penurunan indeks kebahagiaan negara Indonesia secara signifikan berada ketika tahun 2014 menuju 2015."
   ]
  },
  {
   "cell_type": "markdown",
   "metadata": {
    "id": "XAcTw9DENsKy"
   },
   "source": [
    "# Soal 5: Urutkan Ladder Score tertinggi dengan negara-negara Asia Tenggara seperti expected output\n",
    "\n",
    "Untuk mendapatkan expected output, lakukan perintah-perintah berikut:\n",
    "\n",
    "*   Sorting data berdasarkan kolom 'Ladder Score' dari dataset world happiness 2021 dengan hanya menampilkan kolom ['Country name', 'Ladder score', 'Regional indicator']. Sorting data menggunakan sort_values() dari pandas, silahkan kunjungi dokumentasi berikut: https://pandas.pydata.org/docs/reference/api/pandas.DataFrame.sort_values.html\n",
    "*   Urutan pertama diperoleh dari hasil filtering dengan kondisi ['Ladder score']==['Ladder score'].max()\n",
    "\n",
    "*   Urutan negara-negara Asia tenggara diperoleh dari hasil Filtering kolom ['Regional indicator'] == 'Southeast Asia'\n",
    "*   Lakukan concatination antara data Urutan pertama dengan urutan negara Asia Tenggara menggunakan pd.concat()\n",
    "*   Tambahkan kolom ['Rank'] yang berisi dari indeks hasil penggabungan\n",
    "*   drop kolom 'Regional indicator'\n"
   ]
  },
  {
   "cell_type": "code",
   "execution_count": 6,
   "metadata": {
    "id": "bwl-vbqPNwwJ"
   },
   "outputs": [
    {
     "data": {
      "text/html": [
       "<div>\n",
       "<style scoped>\n",
       "    .dataframe tbody tr th:only-of-type {\n",
       "        vertical-align: middle;\n",
       "    }\n",
       "\n",
       "    .dataframe tbody tr th {\n",
       "        vertical-align: top;\n",
       "    }\n",
       "\n",
       "    .dataframe thead th {\n",
       "        text-align: right;\n",
       "    }\n",
       "</style>\n",
       "<table border=\"1\" class=\"dataframe\">\n",
       "  <thead>\n",
       "    <tr style=\"text-align: right;\">\n",
       "      <th></th>\n",
       "      <th>Country name</th>\n",
       "      <th>Ladder score</th>\n",
       "      <th>Rank</th>\n",
       "    </tr>\n",
       "  </thead>\n",
       "  <tbody>\n",
       "    <tr>\n",
       "      <th>0</th>\n",
       "      <td>Finland</td>\n",
       "      <td>7.842</td>\n",
       "      <td>1</td>\n",
       "    </tr>\n",
       "    <tr>\n",
       "      <th>1</th>\n",
       "      <td>Singapore</td>\n",
       "      <td>6.377</td>\n",
       "      <td>32</td>\n",
       "    </tr>\n",
       "    <tr>\n",
       "      <th>2</th>\n",
       "      <td>Thailand</td>\n",
       "      <td>5.985</td>\n",
       "      <td>54</td>\n",
       "    </tr>\n",
       "    <tr>\n",
       "      <th>3</th>\n",
       "      <td>Philippines</td>\n",
       "      <td>5.880</td>\n",
       "      <td>61</td>\n",
       "    </tr>\n",
       "    <tr>\n",
       "      <th>4</th>\n",
       "      <td>Vietnam</td>\n",
       "      <td>5.411</td>\n",
       "      <td>79</td>\n",
       "    </tr>\n",
       "    <tr>\n",
       "      <th>5</th>\n",
       "      <td>Malaysia</td>\n",
       "      <td>5.384</td>\n",
       "      <td>81</td>\n",
       "    </tr>\n",
       "    <tr>\n",
       "      <th>6</th>\n",
       "      <td>Indonesia</td>\n",
       "      <td>5.345</td>\n",
       "      <td>82</td>\n",
       "    </tr>\n",
       "    <tr>\n",
       "      <th>7</th>\n",
       "      <td>Laos</td>\n",
       "      <td>5.030</td>\n",
       "      <td>100</td>\n",
       "    </tr>\n",
       "    <tr>\n",
       "      <th>8</th>\n",
       "      <td>Cambodia</td>\n",
       "      <td>4.830</td>\n",
       "      <td>114</td>\n",
       "    </tr>\n",
       "    <tr>\n",
       "      <th>9</th>\n",
       "      <td>Myanmar</td>\n",
       "      <td>4.426</td>\n",
       "      <td>126</td>\n",
       "    </tr>\n",
       "  </tbody>\n",
       "</table>\n",
       "</div>"
      ],
      "text/plain": [
       "  Country name  Ladder score  Rank\n",
       "0      Finland         7.842     1\n",
       "1    Singapore         6.377    32\n",
       "2     Thailand         5.985    54\n",
       "3  Philippines         5.880    61\n",
       "4      Vietnam         5.411    79\n",
       "5     Malaysia         5.384    81\n",
       "6    Indonesia         5.345    82\n",
       "7         Laos         5.030   100\n",
       "8     Cambodia         4.830   114\n",
       "9      Myanmar         4.426   126"
      ]
     },
     "execution_count": 6,
     "metadata": {},
     "output_type": "execute_result"
    }
   ],
   "source": [
    "#code here\n",
    "df3 = df2.sort_values('Ladder score', ascending=False)[['Country name', 'Ladder score', 'Regional indicator']]\n",
    "filter1 = df3['Ladder score'] == df3['Ladder score'].max()\n",
    "filter2 = df3['Regional indicator'] == 'Southeast Asia'\n",
    "\n",
    "df4 = pd.concat([df3[filter1], df3[filter2]]).reset_index()\n",
    "df4.drop('Regional indicator', axis=1, inplace=True)\n",
    "df4['index'] += 1\n",
    "df4 = df4[['Country name', 'Ladder score', 'index']].rename(columns={'index': 'Rank'})\n",
    "\n",
    "df4"
   ]
  },
  {
   "cell_type": "markdown",
   "metadata": {
    "id": "92T-4UylNypo"
   },
   "source": [
    "Expected output:\n",
    "\n",
    "![Expected Output:](https://drive.google.com/uc?id=1JTwA9auco2loNLRXHQFy0k6EpFhJeqA5)"
   ]
  },
  {
   "cell_type": "markdown",
   "metadata": {
    "id": "qjCOgqI9v46P"
   },
   "source": [
    "Bagaimana Rank Ladder score negara Indonesia jika dibandingkan dengan negara asean lainnya dan secara global?"
   ]
  },
  {
   "cell_type": "markdown",
   "metadata": {
    "id": "YcCJRcIowETB"
   },
   "source": [
    "jawab disini:"
   ]
  },
  {
   "cell_type": "markdown",
   "metadata": {
    "id": "MHZD7lRoOOwZ"
   },
   "source": [
    "Di antara negara Asean lainnya, peringkat Indonesia berada di peringkat 6 dari 9 negara Asean lainnya. Secara global sendiri berada di peringkat 82 di dunia. Peringkat tersebut terbilang cukup rendah."
   ]
  },
  {
   "cell_type": "markdown",
   "metadata": {
    "id": "Qu3cF6ooORte"
   },
   "source": [
    "# Soal 6: Visualisasi Scatter plot dan Regression plot\n",
    "\n",
    "Buatlah visualisasi scatter plot (perpaduan seaborn dan matplotlib), Scatter plot menggunakan Matplotlib dan regresi plot menggunakan Seaborn dari df2 antara GDP per capita ('Logged GDP per capita') dan  skor korupsi ('Perceptions of corruptions')  sesuai expected output dengan ketentuan berikut:\n",
    "\n",
    "Gunakan kolom skor kebebasan beraksi ('Freedom to make life choices') sebagai ukuran pointnya kalikan suatu angka yang cukup besar agar terlihat.\n",
    "\n",
    "Gunakan kolom skor kesehatan ('Healthy life expectancy') sebagai warna point, berikan cmap 'plasma'.\n",
    "\n",
    "Gunakan regplot pada seaborn (sns.regplot) dengan argumen scatter=False dan color = 'black'"
   ]
  },
  {
   "cell_type": "code",
   "execution_count": 7,
   "metadata": {
    "id": "QMG5Alj3OWgq"
   },
   "outputs": [
    {
     "data": {
      "image/png": "[encoded data removed]",
      "text/plain": [
       "<Figure size 864x576 with 2 Axes>"
      ]
     },
     "metadata": {},
     "output_type": "display_data"
    }
   ],
   "source": [
    "#code here\n",
    "fig, ax = plt.subplots(figsize=(12,8))\n",
    "\n",
    "plot = ax.scatter(df2['Logged GDP per capita'], df2['Perceptions of corruption'], s=df2['Freedom to make life choices']*500\\\n",
    "           , c=df2['Healthy life expectancy'], cmap='plasma', alpha=0.5)\n",
    "sns.regplot(data=df2, x='Logged GDP per capita', y='Perceptions of corruption', scatter=False, color='black')\n",
    "\n",
    "plt.colorbar(plot)\n",
    "plt.xlim([6.63,11.65])\n",
    "plt.title('Corruption vs GDP percapita')\n",
    "plt.show()"
   ]
  },
  {
   "cell_type": "markdown",
   "metadata": {
    "id": "oNlQ4FqWOiWE"
   },
   "source": [
    "Expected output:\n",
    "\n",
    "![Expected Output:](https://drive.google.com/uc?id=1KlQcNK6RNMNGoRkxwo4KPUgX40efZH7a)"
   ]
  },
  {
   "cell_type": "markdown",
   "metadata": {
    "id": "fbmoiIWCwJw2"
   },
   "source": [
    "Berikan insight dari hasil visualisasi diatas!"
   ]
  },
  {
   "cell_type": "markdown",
   "metadata": {
    "id": "4q6b6VgtwQPd"
   },
   "source": [
    "Jawab disini:"
   ]
  },
  {
   "cell_type": "markdown",
   "metadata": {
    "id": "y8-1A2IBwSyn"
   },
   "source": [
    "Dapat dilihat dari hasil visualisasi di atas bahwa terdapat hubungan linear negatif antara variabel Logged GDP per capita dan variabel Perceptions of corruption walaupun kekuatan hubungannya tidak cukup kuat."
   ]
  },
  {
   "cell_type": "code",
   "execution_count": null,
   "metadata": {},
   "outputs": [],
   "source": []
  }
 ],
 "metadata": {
  "colab": {
   "collapsed_sections": [],
   "name": "Quiz Pekan 3.ipynb",
   "provenance": []
  },
  "kernelspec": {
   "display_name": "Python 3",
   "language": "python",
   "name": "python3"
  },
  "language_info": {
   "codemirror_mode": {
    "name": "ipython",
    "version": 3
   },
   "file_extension": ".py",
   "mimetype": "text/x-python",
   "name": "python",
   "nbconvert_exporter": "python",
   "pygments_lexer": "ipython3",
   "version": "3.7.6"
  }
 },
 "nbformat": 4,
 "nbformat_minor": 1
}
